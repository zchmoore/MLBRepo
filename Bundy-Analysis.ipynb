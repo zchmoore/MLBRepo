{
 "cells": [
  {
   "cell_type": "code",
   "execution_count": 4,
   "metadata": {
    "collapsed": false
   },
   "outputs": [],
   "source": [
    "import numpy as np\n",
    "import seaborn as sns\n",
    "import pandas as pd\n",
    "import matplotlib.pyplot as plt\n",
    "from sklearn.linear_model import LinearRegression\n",
    "\n",
    "%matplotlib inline"
   ]
  },
  {
   "cell_type": "markdown",
   "metadata": {},
   "source": [
    "# Dylan Bundy - What goes wrong?\n",
    "\n",
    "### Data found at [Baseball Savant]( https://baseballsavant.mlb.com/statcast_search)\n",
    "\n",
    "#### First filter on the proper rows, next on the columns **to** get data in analyzable form"
   ]
  },
  {
   "cell_type": "code",
   "execution_count": 18,
   "metadata": {
    "collapsed": false
   },
   "outputs": [],
   "source": [
    "# import data. Saved on C: drive\n",
    "bd_data = pd.read_csv(\"C:/Users/564207/Documents/Data-Science/DataSets/files/605164_data.csv\")\n",
    "\n",
    "#drop deprecated columns with regex search\n",
    "col_drop = ~bd_data.columns.str.contains(\"deprecated|fielder\")\n",
    "bd_data = bd_data.loc[:,bd_data.columns[col_drop]]\n",
    "\n",
    "#list of additional to remove\n",
    "col_drop = ['pitcher','spin_dir','p_throws','game_year','on_1b','on_2b','on_3b','inning_topbot','umpire','game_pk',\n",
    "           'at_bat_number','pitch_name','bat_score','fld_score','post_home_score','post_bat_score','post_away_score',\n",
    "           'des','player_name','woba_value','woba_denom','hit_location','bb_type','hc_x','hc_y','hit_distance_sc',\n",
    "           'estimated_ba_using_speedangle','estimated_woba_using_speedangle','sv_id']\n",
    "bd_data.drop(col_drop,axis=1,inplace=True)\n",
    "\n",
    "event_map_dict = {'home_run':'HR','null':'nothing','strikeout':'K', 'single':'1B',\n",
    "                   'field_out':'FO','hit_by_pitch':'HBP','double':'2B','field_error':'E',\n",
    "                   'double_play':'DP','walk':'BB','force_out':'force_out',\n",
    "                   'grounded_into_double_play':\"GIDP\", 'sac_bunt':'SAC Bunt', 'triple':'3B',\n",
    "                   'sac_fly':'SAC Fly','caught_stealing_2b':'CS 2B', 'fielders_choice_out':'FC Out',\n",
    "                   'strikeout_double_play':'SO DP', 'fielders_choice':'FC', 'intent_walk':'IBB'}\n",
    "bd_data.events = bd_data.events.map(event_map_dict)"
   ]
  },
  {
   "cell_type": "code",
   "execution_count": 19,
   "metadata": {
    "collapsed": false
   },
   "outputs": [
    {
     "data": {
      "text/plain": [
       "{'babip_value': 942,\n",
       " 'effective_speed': 4,\n",
       " 'if_fielding_alignment': 2,\n",
       " 'launch_speed': 5537,\n",
       " 'launch_speed_angle': 6,\n",
       " 'pitch_type': 3,\n",
       " 'release_pos_x': 29,\n",
       " 'release_spin_rate': 33}"
      ]
     },
     "execution_count": 19,
     "metadata": {},
     "output_type": "execute_result"
    }
   ],
   "source": [
    "#dictionary for columns and null counts\n",
    "col_nulls = {}\n",
    "\n",
    "# loop through columns, drop nulls if there are any\n",
    "# bad_platex = bd_data.plate_x != 'null' is basic logic\n",
    "for column in bd_data.columns:\n",
    "    \n",
    "    if (bd_data[column].dtype == 'O') and (sum(bd_data[column] == 'null') > 0): #if null value, remove\n",
    "        col_nulls[column] = sum(bd_data[column] == 'null')\n",
    "        bad_col = bd_data[column] != 'null'\n",
    "        bd_data = bd_data[bad_col]\n",
    "\n",
    "# quick fix for missing data\n",
    "# bad_platex = bd_data.plate_x != 'null'\n",
    "# bd_data = bd_data[bad_platex]\n",
    "\n",
    "# bad_platez = bd_data.plate_z != 'null'\n",
    "# bd_data = bd_data[bad_platez]\n",
    "\n",
    "bad_inning = bd_data.inning != 13\n",
    "bd_data = bd_data[bad_inning]\n",
    "\n",
    "col_nulls"
   ]
  },
  {
   "cell_type": "code",
   "execution_count": 33,
   "metadata": {
    "collapsed": false
   },
   "outputs": [
    {
     "data": {
      "text/html": [
       "<div>\n",
       "<table border=\"1\" class=\"dataframe\">\n",
       "  <thead>\n",
       "    <tr style=\"text-align: right;\">\n",
       "      <th></th>\n",
       "      <th>pitch_type</th>\n",
       "      <th>game_date</th>\n",
       "      <th>release_speed</th>\n",
       "      <th>release_pos_x</th>\n",
       "      <th>release_pos_z</th>\n",
       "      <th>batter</th>\n",
       "      <th>events</th>\n",
       "      <th>description</th>\n",
       "      <th>zone</th>\n",
       "      <th>game_type</th>\n",
       "      <th>...</th>\n",
       "      <th>estimated_woba_using_speedangle</th>\n",
       "      <th>babip_value</th>\n",
       "      <th>iso_value</th>\n",
       "      <th>launch_speed_angle</th>\n",
       "      <th>pitch_number</th>\n",
       "      <th>home_score</th>\n",
       "      <th>away_score</th>\n",
       "      <th>post_fld_score</th>\n",
       "      <th>if_fielding_alignment</th>\n",
       "      <th>of_fielding_alignment</th>\n",
       "    </tr>\n",
       "  </thead>\n",
       "  <tbody>\n",
       "    <tr>\n",
       "      <th>16</th>\n",
       "      <td>CH</td>\n",
       "      <td>4/11/2019</td>\n",
       "      <td>83.1</td>\n",
       "      <td>-2.443</td>\n",
       "      <td>6.2695</td>\n",
       "      <td>543257</td>\n",
       "      <td>1B</td>\n",
       "      <td>hit_into_play_no_out</td>\n",
       "      <td>4</td>\n",
       "      <td>R</td>\n",
       "      <td>...</td>\n",
       "      <td>0.727</td>\n",
       "      <td>1</td>\n",
       "      <td>0</td>\n",
       "      <td>4</td>\n",
       "      <td>2</td>\n",
       "      <td>1</td>\n",
       "      <td>4</td>\n",
       "      <td>1</td>\n",
       "      <td>Standard</td>\n",
       "      <td>Standard</td>\n",
       "    </tr>\n",
       "    <tr>\n",
       "      <th>21</th>\n",
       "      <td>FF</td>\n",
       "      <td>4/11/2019</td>\n",
       "      <td>92.0</td>\n",
       "      <td>-2.1853</td>\n",
       "      <td>6.3056</td>\n",
       "      <td>657656</td>\n",
       "      <td>1B</td>\n",
       "      <td>hit_into_play_no_out</td>\n",
       "      <td>12</td>\n",
       "      <td>R</td>\n",
       "      <td>...</td>\n",
       "      <td>0.543</td>\n",
       "      <td>1</td>\n",
       "      <td>0</td>\n",
       "      <td>4</td>\n",
       "      <td>5</td>\n",
       "      <td>1</td>\n",
       "      <td>2</td>\n",
       "      <td>1</td>\n",
       "      <td>Strategic</td>\n",
       "      <td>Standard</td>\n",
       "    </tr>\n",
       "    <tr>\n",
       "      <th>26</th>\n",
       "      <td>FF</td>\n",
       "      <td>4/11/2019</td>\n",
       "      <td>91.4</td>\n",
       "      <td>-2.4977</td>\n",
       "      <td>6.2004</td>\n",
       "      <td>595777</td>\n",
       "      <td>FO</td>\n",
       "      <td>hit_into_play</td>\n",
       "      <td>6</td>\n",
       "      <td>R</td>\n",
       "      <td>...</td>\n",
       "      <td>0.294</td>\n",
       "      <td>0</td>\n",
       "      <td>0</td>\n",
       "      <td>3</td>\n",
       "      <td>2</td>\n",
       "      <td>1</td>\n",
       "      <td>2</td>\n",
       "      <td>1</td>\n",
       "      <td>Standard</td>\n",
       "      <td>Standard</td>\n",
       "    </tr>\n",
       "    <tr>\n",
       "      <th>37</th>\n",
       "      <td>SL</td>\n",
       "      <td>4/11/2019</td>\n",
       "      <td>82.3</td>\n",
       "      <td>-2.534</td>\n",
       "      <td>6.1243</td>\n",
       "      <td>572039</td>\n",
       "      <td>FO</td>\n",
       "      <td>hit_into_play</td>\n",
       "      <td>6</td>\n",
       "      <td>R</td>\n",
       "      <td>...</td>\n",
       "      <td>0.026</td>\n",
       "      <td>0</td>\n",
       "      <td>0</td>\n",
       "      <td>3</td>\n",
       "      <td>3</td>\n",
       "      <td>1</td>\n",
       "      <td>0</td>\n",
       "      <td>1</td>\n",
       "      <td>Strategic</td>\n",
       "      <td>Standard</td>\n",
       "    </tr>\n",
       "    <tr>\n",
       "      <th>40</th>\n",
       "      <td>CH</td>\n",
       "      <td>4/11/2019</td>\n",
       "      <td>82.1</td>\n",
       "      <td>-2.4113</td>\n",
       "      <td>6.1789</td>\n",
       "      <td>543760</td>\n",
       "      <td>2B</td>\n",
       "      <td>hit_into_play_no_out</td>\n",
       "      <td>13</td>\n",
       "      <td>R</td>\n",
       "      <td>...</td>\n",
       "      <td>0.358</td>\n",
       "      <td>1</td>\n",
       "      <td>1</td>\n",
       "      <td>4</td>\n",
       "      <td>3</td>\n",
       "      <td>1</td>\n",
       "      <td>0</td>\n",
       "      <td>1</td>\n",
       "      <td>Strategic</td>\n",
       "      <td>Standard</td>\n",
       "    </tr>\n",
       "  </tbody>\n",
       "</table>\n",
       "<p>5 rows × 54 columns</p>\n",
       "</div>"
      ],
      "text/plain": [
       "   pitch_type  game_date  release_speed release_pos_x release_pos_z  batter  \\\n",
       "16         CH  4/11/2019           83.1        -2.443        6.2695  543257   \n",
       "21         FF  4/11/2019           92.0       -2.1853        6.3056  657656   \n",
       "26         FF  4/11/2019           91.4       -2.4977        6.2004  595777   \n",
       "37         SL  4/11/2019           82.3        -2.534        6.1243  572039   \n",
       "40         CH  4/11/2019           82.1       -2.4113        6.1789  543760   \n",
       "\n",
       "   events           description zone game_type          ...           \\\n",
       "16     1B  hit_into_play_no_out    4         R          ...            \n",
       "21     1B  hit_into_play_no_out   12         R          ...            \n",
       "26     FO         hit_into_play    6         R          ...            \n",
       "37     FO         hit_into_play    6         R          ...            \n",
       "40     2B  hit_into_play_no_out   13         R          ...            \n",
       "\n",
       "   estimated_woba_using_speedangle babip_value iso_value launch_speed_angle  \\\n",
       "16                           0.727           1         0                  4   \n",
       "21                           0.543           1         0                  4   \n",
       "26                           0.294           0         0                  3   \n",
       "37                           0.026           0         0                  3   \n",
       "40                           0.358           1         1                  4   \n",
       "\n",
       "   pitch_number home_score  away_score  post_fld_score if_fielding_alignment  \\\n",
       "16            2          1           4               1              Standard   \n",
       "21            5          1           2               1             Strategic   \n",
       "26            2          1           2               1              Standard   \n",
       "37            3          1           0               1             Strategic   \n",
       "40            3          1           0               1             Strategic   \n",
       "\n",
       "   of_fielding_alignment  \n",
       "16              Standard  \n",
       "21              Standard  \n",
       "26              Standard  \n",
       "37              Standard  \n",
       "40              Standard  \n",
       "\n",
       "[5 rows x 54 columns]"
      ]
     },
     "execution_count": 33,
     "metadata": {},
     "output_type": "execute_result"
    }
   ],
   "source": [
    "bd_data.head(5)"
   ]
  },
  {
   "cell_type": "code",
   "execution_count": 16,
   "metadata": {
    "collapsed": true
   },
   "outputs": [],
   "source": [
    "#format columns as necessary\n",
    "bd_data['game_date'] = pd.to_datetime(bd_data.game_date)\n",
    "bd_data['plate_x'] = bd_data.plate_x.astype(np.float)\n",
    "bd_data['plate_z'] = bd_data.plate_z.astype(np.float)"
   ]
  },
  {
   "cell_type": "code",
   "execution_count": 17,
   "metadata": {
    "collapsed": false
   },
   "outputs": [
    {
     "data": {
      "text/plain": [
       "MultiIndex(levels=[['release_speed', 'batter', 'balls', 'strikes', 'plate_x', 'plate_z', 'outs_when_up', 'inning', 'sz_top', 'sz_bot', 'pitcher.1', 'pitch_number', 'home_score', 'away_score', 'post_fld_score'], ['mean', 'median', 'count', 'std']],\n",
       "           labels=[[0, 0, 0, 0, 1, 1, 1, 1, 2, 2, 2, 2, 3, 3, 3, 3, 4, 4, 4, 4, 5, 5, 5, 5, 6, 6, 6, 6, 7, 7, 7, 7, 8, 8, 8, 8, 9, 9, 9, 9, 10, 10, 10, 10, 11, 11, 11, 11, 12, 12, 12, 12, 13, 13, 13, 13, 14, 14, 14, 14], [0, 1, 2, 3, 0, 1, 2, 3, 0, 1, 2, 3, 0, 1, 2, 3, 0, 1, 2, 3, 0, 1, 2, 3, 0, 1, 2, 3, 0, 1, 2, 3, 0, 1, 2, 3, 0, 1, 2, 3, 0, 1, 2, 3, 0, 1, 2, 3, 0, 1, 2, 3, 0, 1, 2, 3, 0, 1, 2, 3]])"
      ]
     },
     "execution_count": 17,
     "metadata": {},
     "output_type": "execute_result"
    }
   ],
   "source": [
    "ff = bd_data[bd_data.pitch_type == 'FF'].groupby(['game_date']).agg(['mean','median','count','std'])\n",
    "ff.columns"
   ]
  },
  {
   "cell_type": "code",
   "execution_count": 20,
   "metadata": {
    "collapsed": false
   },
   "outputs": [
    {
     "data": {
      "text/plain": [
       "<matplotlib.text.Text at 0x2542f40c400>"
      ]
     },
     "execution_count": 20,
     "metadata": {},
     "output_type": "execute_result"
    },
    {
     "data": {
      "image/png": "[encoded data removed]",
      "text/plain": [
       "<matplotlib.figure.Figure at 0x2542e558ba8>"
      ]
     },
     "metadata": {},
     "output_type": "display_data"
    }
   ],
   "source": [
    "#plot Bundy fastball velocity over time\n",
    "speed = ff['release_speed','mean']\n",
    "speed2 = ff['release_speed','median']\n",
    "x = range(speed.shape[0])\n",
    "plt.plot(x,speed)\n",
    "plt.plot(x,speed2)\n",
    "labs = [ff.index[0],ff.index[20],ff.index[40],ff.index[60]]\n",
    "plt.xticks([0,20,40,60],labs,rotation=45)\n",
    "plt.title(\"Dylan Bundy Avg. Fastball Velo by game - 2016 - 4/11/2019\")"
   ]
  },
  {
   "cell_type": "markdown",
   "metadata": {},
   "source": [
    "# Contingency table analysis of independence based on outcome of pitches. Outcomes would be TB for each pitch to start"
   ]
  },
  {
   "cell_type": "code",
   "execution_count": 279,
   "metadata": {
    "collapsed": false
   },
   "outputs": [],
   "source": [
    "# sns.scatterplot(data=bd_data,x='plate_x',y=\"plate_z\",hue='description',legend='brief')\n",
    "# plt.legend(bbox_to_anchor=(1.6,1.2))\n",
    "\n",
    "# facet the plots by inning. 3 rows 2 columns. Innings 1 - 6\n"
   ]
  },
  {
   "cell_type": "code",
   "execution_count": 20,
   "metadata": {
    "collapsed": false
   },
   "outputs": [
    {
     "data": {
      "text/plain": [
       "0       108.3\n",
       "3       109.5\n",
       "16       89.9\n",
       "18      100.7\n",
       "21       97.4\n",
       "26       66.2\n",
       "35      104.6\n",
       "37         79\n",
       "40      101.5\n",
       "43       84.3\n",
       "55       72.1\n",
       "63       93.4\n",
       "75         80\n",
       "83       82.5\n",
       "87         99\n",
       "92      104.3\n",
       "101      90.8\n",
       "104      70.4\n",
       "109      98.4\n",
       "112     109.4\n",
       "118      82.2\n",
       "126      83.4\n",
       "129      97.9\n",
       "132      82.9\n",
       "143     100.1\n",
       "147      93.7\n",
       "160     110.3\n",
       "197        74\n",
       "215        80\n",
       "226      79.3\n",
       "        ...  \n",
       "7718     96.7\n",
       "7731     95.1\n",
       "7734       95\n",
       "7737     76.3\n",
       "7740     78.9\n",
       "7743     71.9\n",
       "7746     90.8\n",
       "7748     62.8\n",
       "7757       76\n",
       "7763     95.6\n",
       "7776     84.8\n",
       "7778     94.4\n",
       "7783       80\n",
       "7788     74.5\n",
       "7791     90.9\n",
       "7798     75.6\n",
       "7816     99.1\n",
       "7817     45.5\n",
       "7820    104.9\n",
       "7827     96.7\n",
       "7829     90.1\n",
       "7834     76.1\n",
       "7840     92.8\n",
       "7843     87.9\n",
       "7848     80.4\n",
       "7851     84.1\n",
       "7858     98.7\n",
       "7861    108.2\n",
       "7866     99.2\n",
       "7868     86.9\n",
       "Name: launch_speed, dtype: object"
      ]
     },
     "execution_count": 20,
     "metadata": {},
     "output_type": "execute_result"
    }
   ],
   "source": [
    "bd_data.launch_speed"
   ]
  },
  {
   "cell_type": "code",
   "execution_count": null,
   "metadata": {
    "collapsed": false
   },
   "outputs": [],
   "source": []
  },
  {
   "cell_type": "code",
   "execution_count": null,
   "metadata": {
    "collapsed": false
   },
   "outputs": [],
   "source": []
  },
  {
   "cell_type": "code",
   "execution_count": null,
   "metadata": {
    "collapsed": true
   },
   "outputs": [],
   "source": []
  },
  {
   "cell_type": "code",
   "execution_count": null,
   "metadata": {
    "collapsed": true
   },
   "outputs": [],
   "source": []
  },
  {
   "cell_type": "code",
   "execution_count": null,
   "metadata": {
    "collapsed": true
   },
   "outputs": [],
   "source": []
  }
 ],
 "metadata": {
  "anaconda-cloud": {},
  "kernelspec": {
   "display_name": "Python [conda root]",
   "language": "python",
   "name": "conda-root-py"
  },
  "language_info": {
   "codemirror_mode": {
    "name": "ipython",
    "version": 3
   },
   "file_extension": ".py",
   "mimetype": "text/x-python",
   "name": "python",
   "nbconvert_exporter": "python",
   "pygments_lexer": "ipython3",
   "version": "3.5.2"
  }
 },
 "nbformat": 4,
 "nbformat_minor": 1
}
